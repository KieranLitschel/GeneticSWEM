{
 "cells": [
  {
   "cell_type": "code",
   "execution_count": 8,
   "metadata": {},
   "outputs": [],
   "source": [
    "import tensorflow as tf\n",
    "import io\n",
    "import sentencepiece as spm"
   ]
  },
  {
   "cell_type": "code",
   "execution_count": 9,
   "metadata": {},
   "outputs": [],
   "source": [
    "BPE_ENCODER_PATH = \"trained_GEA_SWEM_encoder.model\"\n",
    "MODEL_PATH = \"trained_GEA_SWEM\""
   ]
  },
  {
   "cell_type": "markdown",
   "metadata": {},
   "source": [
    "This generates the vecs.tsv and meta.tsv files for tensorflow projector as we use for our figure in the report. Go to http://projector.tensorflow.org/ and click \"Load\" to visualize them."
   ]
  },
  {
   "cell_type": "code",
   "execution_count": 10,
   "metadata": {},
   "outputs": [],
   "source": [
    "model = tf.keras.models.load_model(MODEL_PATH)\n",
    "\n",
    "out_v = io.open(\"vecs.tsv\",\"w\",encoding=\"utf-8\")\n",
    "out_m = io.open(\"meta.tsv\",\"w\",encoding=\"utf-8\")\n",
    "weights = model.get_layer(\"Embedding\").weights[0].numpy()\n",
    "encoder = spm.SentencePieceProcessor(model_file=BPE_ENCODER_PATH)\n",
    "for word_num in range(2,65499):\n",
    "    word = encoder.decode([word_num])\n",
    "    embeddings = weights[word_num]\n",
    "    out_m.write(word+\"\\n\")\n",
    "    out_v.write(\"\\t\".join([str(x) for x in embeddings])+\"\\n\")\n",
    "out_v.close()\n",
    "out_m.close()"
   ]
  },
  {
   "cell_type": "code",
   "execution_count": null,
   "metadata": {},
   "outputs": [],
   "source": []
  }
 ],
 "metadata": {
  "kernelspec": {
   "display_name": "Python 3",
   "language": "python",
   "name": "python3"
  },
  "language_info": {
   "codemirror_mode": {
    "name": "ipython",
    "version": 3
   },
   "file_extension": ".py",
   "mimetype": "text/x-python",
   "name": "python",
   "nbconvert_exporter": "python",
   "pygments_lexer": "ipython3",
   "version": "3.6.9"
  }
 },
 "nbformat": 4,
 "nbformat_minor": 4
}
